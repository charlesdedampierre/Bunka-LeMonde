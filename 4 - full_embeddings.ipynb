{
 "cells": [
  {
   "cell_type": "code",
   "execution_count": 8,
   "metadata": {},
   "outputs": [],
   "source": [
    "from bunkatopics import Bunka\n",
    "from langchain_community.embeddings import HuggingFaceEmbeddings\n",
    "import os\n",
    "\n",
    "#model_name = \"sentence-transformers/distiluse-base-multilingual-cased-v2\"\n",
    "#model_name = \"sentence-transformers/paraphrase-multilingual-mpnet-base-v2\"\n",
    "model_name = \"OrdalieTech/Solon-embeddings-large-0.1\"\n",
    "\n",
    "embedding_model = HuggingFaceEmbeddings(model_name=model_name,# We recommend starting with a small model\n",
    "                                        model_kwargs={\"device\": \"cuda\"}, # Or cuda if you have GPU\n",
    "                                        encode_kwargs={\"show_progress_bar\": True}, # Show the progress of embeddings\n",
    "                                        multi_process=False)  # set to True if you have mutliprocessing\n"
   ]
  },
  {
   "cell_type": "code",
   "execution_count": null,
   "metadata": {},
   "outputs": [],
   "source": []
  },
  {
   "cell_type": "code",
   "execution_count": 1,
   "metadata": {},
   "outputs": [],
   "source": [
    "import pandas as pd\n",
    "#docs = pd.read_csv(\"https://raw.githubusercontent.com/regicid/gender_le_monde/main/test_bunka.csv\")\n",
    "df_docs = pd.read_csv(\"raw_data/lemonde_bunka.csv\")"
   ]
  },
  {
   "cell_type": "code",
   "execution_count": 2,
   "metadata": {},
   "outputs": [],
   "source": [
    "df_docs = df_docs.sample(1000, random_state=42)"
   ]
  },
  {
   "cell_type": "code",
   "execution_count": 3,
   "metadata": {},
   "outputs": [],
   "source": [
    "df_docs.to_csv('raw_data/lemonde_bunka_test.csv')"
   ]
  },
  {
   "cell_type": "code",
   "execution_count": 4,
   "metadata": {},
   "outputs": [
    {
     "name": "stdout",
     "output_type": "stream",
     "text": [
      "1000\n",
      "1000\n"
     ]
    }
   ],
   "source": [
    "print(len(df_docs))\n",
    "\n",
    "sentences = list(df_docs['titles'])\n",
    "print(len(sentences))"
   ]
  },
  {
   "cell_type": "code",
   "execution_count": 5,
   "metadata": {},
   "outputs": [
    {
     "data": {
      "text/plain": [
       "1000"
      ]
     },
     "execution_count": 5,
     "metadata": {},
     "output_type": "execute_result"
    }
   ],
   "source": [
    "ids = list(df_docs['0'])\n",
    "\n",
    "len(set(ids))"
   ]
  },
  {
   "cell_type": "code",
   "execution_count": 6,
   "metadata": {},
   "outputs": [],
   "source": [
    "# Just do the embedding\n",
    "\n",
    "import string\n",
    "import random\n",
    "from langchain_community.document_loaders import DataFrameLoader\n",
    "from langchain_community.vectorstores.chroma import Chroma\n",
    "\n",
    "characters = string.ascii_letters + string.digits\n",
    "random_string = \"\".join(random.choice(characters) for _ in range(20))\n",
    "\n",
    "df_loader = pd.DataFrame(sentences, columns=[\"text\"])\n",
    "df_loader[\"doc_id\"] = ids\n",
    "\n",
    "loader = DataFrameLoader(df_loader, page_content_column=\"text\")\n",
    "documents_langchain = loader.load()\n",
    "\n",
    "# 3.48 minutes to load 3,000,000 millions documents in the DataFrameLoader of langchain"
   ]
  },
  {
   "cell_type": "code",
   "execution_count": 9,
   "metadata": {},
   "outputs": [
    {
     "data": {
      "application/vnd.jupyter.widget-view+json": {
       "model_id": "1153a118fe6144dc83fd962999c828e1",
       "version_major": 2,
       "version_minor": 0
      },
      "text/plain": [
       "Batches:   0%|          | 0/32 [00:00<?, ?it/s]"
      ]
     },
     "metadata": {},
     "output_type": "display_data"
    }
   ],
   "source": [
    "# Chroma = plus de 50 pour 3 millions d'embeddings\n",
    "\n",
    "# the actual steps to embeddings\n",
    "vectorstore = Chroma.from_documents(\n",
    "    documents_langchain, embedding_model, collection_name=random_string\n",
    ")"
   ]
  },
  {
   "cell_type": "code",
   "execution_count": 11,
   "metadata": {},
   "outputs": [],
   "source": [
    "bunka_ids = [item[\"doc_id\"] for item in vectorstore.get()[\"metadatas\"]]\n",
    "bunka_docs = vectorstore.get()[\"documents\"]\n",
    "\n",
    "\n",
    "bunka_embeddings = vectorstore._collection.get(include=[\"embeddings\"])[\n",
    "    \"embeddings\"\n",
    "]"
   ]
  },
  {
   "cell_type": "code",
   "execution_count": 18,
   "metadata": {},
   "outputs": [],
   "source": [
    "import json\n",
    "\n",
    "# Create a dictionary where IDs are keys and embeddings are values\n",
    "embedding_dump = dict(zip(ids, bunka_embeddings))\n",
    "\n",
    "with open('exports/embedding_lemonde.json', 'w') as json_file:\n",
    "    json.dump(embedding_dump, json_file)"
   ]
  },
  {
   "cell_type": "code",
   "execution_count": 20,
   "metadata": {},
   "outputs": [
    {
     "data": {
      "text/plain": [
       "1000"
      ]
     },
     "execution_count": 20,
     "metadata": {},
     "output_type": "execute_result"
    }
   ],
   "source": []
  }
 ],
 "metadata": {
  "kernelspec": {
   "display_name": ".venv",
   "language": "python",
   "name": "python3"
  },
  "language_info": {
   "codemirror_mode": {
    "name": "ipython",
    "version": 3
   },
   "file_extension": ".py",
   "mimetype": "text/x-python",
   "name": "python",
   "nbconvert_exporter": "python",
   "pygments_lexer": "ipython3",
   "version": "3.10.12"
  }
 },
 "nbformat": 4,
 "nbformat_minor": 2
}
