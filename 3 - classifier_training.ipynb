{
 "cells": [
  {
   "cell_type": "code",
   "execution_count": 17,
   "metadata": {},
   "outputs": [],
   "source": [
    "import jsonlines\n",
    "from bunkatopics.datamodel import Document, Term\n",
    "\n",
    "from bunkatopics.datamodel import TopicRanking, BourdieuDimension, Term\n",
    "from pydantic import BaseModel, Field\n",
    "import typing as t\n",
    "\n",
    "\n",
    "DOC_ID = str\n",
    "TERM_ID = str\n",
    "TOPIC_ID = str\n",
    "\n",
    "\n",
    "class Document(BaseModel):\n",
    "    doc_id: DOC_ID\n",
    "    content: str\n",
    "    size: t.Optional[float] = None\n",
    "    x: t.Optional[float] = None\n",
    "    y: t.Optional[float] = None\n",
    "    topic_id: t.Optional[TOPIC_ID] = None\n",
    "    topic_ranking: t.Optional[TopicRanking] = None  # Make topic_ranking optional\n",
    "    term_id: t.Optional[t.List[TERM_ID]] = None\n",
    "    embedding: t.Optional[t.List[float]] = Field(None, repr=False)\n",
    "    bourdieu_dimensions: t.List[BourdieuDimension] = []\n",
    "\n",
    "\n",
    "\n",
    "# Define a function to read documents from a JSONL file\n",
    "def read_documents_from_jsonl(file_path):\n",
    "    documents = []\n",
    "    with jsonlines.open(file_path, mode=\"r\") as reader:\n",
    "        for item in reader:\n",
    "            document = Document(**item)\n",
    "            documents.append(document)\n",
    "    return documents"
   ]
  },
  {
   "cell_type": "code",
   "execution_count": 18,
   "metadata": {},
   "outputs": [],
   "source": [
    "documents = read_documents_from_jsonl(\"exports/bunka_docs_lemonde.jsonl\")\n"
   ]
  },
  {
   "cell_type": "code",
   "execution_count": 19,
   "metadata": {},
   "outputs": [],
   "source": [
    "import pandas as pd\n",
    "df_embedding = pd.DataFrame([x.model_dump() for x in documents])\n",
    "df_embedding = df_embedding[['doc_id', 'embedding']]"
   ]
  },
  {
   "cell_type": "code",
   "execution_count": 21,
   "metadata": {},
   "outputs": [],
   "source": [
    "df_topics = pd.read_csv('exports/df_topics_top_docs.csv', index_col=[0])\n",
    "df_topics['short_name'] = df_topics['topic_name'].apply(lambda x: '-'.join(x.split(' | ')[:7]))"
   ]
  },
  {
   "cell_type": "code",
   "execution_count": 22,
   "metadata": {},
   "outputs": [],
   "source": [
    "df_final = pd.merge(df_embedding, df_topics, on = 'doc_id')"
   ]
  },
  {
   "cell_type": "code",
   "execution_count": 23,
   "metadata": {},
   "outputs": [
    {
     "data": {
      "text/html": [
       "<div>\n",
       "<style scoped>\n",
       "    .dataframe tbody tr th:only-of-type {\n",
       "        vertical-align: middle;\n",
       "    }\n",
       "\n",
       "    .dataframe tbody tr th {\n",
       "        vertical-align: top;\n",
       "    }\n",
       "\n",
       "    .dataframe thead th {\n",
       "        text-align: right;\n",
       "    }\n",
       "</style>\n",
       "<table border=\"1\" class=\"dataframe\">\n",
       "  <thead>\n",
       "    <tr style=\"text-align: right;\">\n",
       "      <th></th>\n",
       "      <th>doc_id</th>\n",
       "      <th>embedding</th>\n",
       "      <th>content</th>\n",
       "      <th>ranking_per_topic</th>\n",
       "      <th>topic_id</th>\n",
       "      <th>topic_name</th>\n",
       "      <th>short_name</th>\n",
       "    </tr>\n",
       "  </thead>\n",
       "  <tbody>\n",
       "    <tr>\n",
       "      <th>0</th>\n",
       "      <td>f9d2e3e9-81b5-4072-a</td>\n",
       "      <td>[-0.03271692246198654, 0.06378008425235748, 0....</td>\n",
       "      <td>Discrètement, le gouvernement a prévu de relev...</td>\n",
       "      <td>810</td>\n",
       "      <td>bt-15</td>\n",
       "      <td>entreprises | logement | emploi | crise | chôm...</td>\n",
       "      <td>entreprises-logement-emploi-crise-chômage-entr...</td>\n",
       "    </tr>\n",
       "    <tr>\n",
       "      <th>1</th>\n",
       "      <td>7c5d0504-0854-4f2d-8</td>\n",
       "      <td>[0.026198111474514008, 0.0498882457613945, -0....</td>\n",
       "      <td>GUIDE</td>\n",
       "      <td>161</td>\n",
       "      <td>bt-20</td>\n",
       "      <td>SEMAINE | GUIDE | week | GALERIES | end | TRAV...</td>\n",
       "      <td>SEMAINE-GUIDE-week-GALERIES-end-TRAVERS-entrées</td>\n",
       "    </tr>\n",
       "    <tr>\n",
       "      <th>2</th>\n",
       "      <td>8a73a0d0-296e-4de4-a</td>\n",
       "      <td>[-0.05174738168716431, 0.0240201186388731, 0.0...</td>\n",
       "      <td>Le Sénat fait la chasse aux fraudeurs à la red...</td>\n",
       "      <td>997</td>\n",
       "      <td>bt-7</td>\n",
       "      <td>RÉFORME | LOI | ASSEMBLÉE | SYNDICATS | PROJET...</td>\n",
       "      <td>RÉFORME-LOI-ASSEMBLÉE-SYNDICATS-PROJET-députés...</td>\n",
       "    </tr>\n",
       "  </tbody>\n",
       "</table>\n",
       "</div>"
      ],
      "text/plain": [
       "                 doc_id                                          embedding  \\\n",
       "0  f9d2e3e9-81b5-4072-a  [-0.03271692246198654, 0.06378008425235748, 0....   \n",
       "1  7c5d0504-0854-4f2d-8  [0.026198111474514008, 0.0498882457613945, -0....   \n",
       "2  8a73a0d0-296e-4de4-a  [-0.05174738168716431, 0.0240201186388731, 0.0...   \n",
       "\n",
       "                                             content  ranking_per_topic  \\\n",
       "0  Discrètement, le gouvernement a prévu de relev...                810   \n",
       "1                                              GUIDE                161   \n",
       "2  Le Sénat fait la chasse aux fraudeurs à la red...                997   \n",
       "\n",
       "  topic_id                                         topic_name  \\\n",
       "0    bt-15  entreprises | logement | emploi | crise | chôm...   \n",
       "1    bt-20  SEMAINE | GUIDE | week | GALERIES | end | TRAV...   \n",
       "2     bt-7  RÉFORME | LOI | ASSEMBLÉE | SYNDICATS | PROJET...   \n",
       "\n",
       "                                          short_name  \n",
       "0  entreprises-logement-emploi-crise-chômage-entr...  \n",
       "1    SEMAINE-GUIDE-week-GALERIES-end-TRAVERS-entrées  \n",
       "2  RÉFORME-LOI-ASSEMBLÉE-SYNDICATS-PROJET-députés...  "
      ]
     },
     "execution_count": 23,
     "metadata": {},
     "output_type": "execute_result"
    }
   ],
   "source": [
    "df_final.head(3)"
   ]
  },
  {
   "cell_type": "code",
   "execution_count": 24,
   "metadata": {},
   "outputs": [],
   "source": [
    "import numpy as np\n",
    "from sklearn.model_selection import train_test_split\n",
    "from xgboost import XGBClassifier\n",
    "from sklearn.metrics import accuracy_score, classification_report\n",
    "from sklearn.preprocessing import LabelEncoder\n"
   ]
  },
  {
   "cell_type": "code",
   "execution_count": 25,
   "metadata": {},
   "outputs": [],
   "source": [
    "# Convert embedding column to numpy array\n",
    "X = np.array(df_final['embedding'].tolist())\n",
    "\n",
    "# Convert topic_id to categorical labels\n",
    "y = df_final['topic_id']\n",
    "\n",
    "# Convert topic_id to integer labels using label encoding\n",
    "label_encoder = LabelEncoder()\n",
    "y_encoded = label_encoder.fit_transform(y)"
   ]
  },
  {
   "cell_type": "code",
   "execution_count": 26,
   "metadata": {},
   "outputs": [],
   "source": [
    "# Split data into train and test sets\n",
    "X_train, X_test, y_train, y_test = train_test_split(X, y_encoded, test_size=0.3, random_state=42)\n",
    "\n",
    "# Create XGBoost classifier\n",
    "model = XGBClassifier(objective='multi:softmax', num_class=len(set(y)))\n",
    "\n",
    "# Train the model\n",
    "model.fit(X_train, y_train)\n",
    "\n",
    "# Make predictions on the test set\n",
    "y_pred = model.predict(X_test)"
   ]
  },
  {
   "cell_type": "code",
   "execution_count": 10,
   "metadata": {},
   "outputs": [
    {
     "data": {
      "text/plain": [
       "array(['bt-23', 'bt-1', 'bt-0', ..., 'bt-10', 'bt-8', 'bt-0'],\n",
       "      dtype=object)"
      ]
     },
     "execution_count": 10,
     "metadata": {},
     "output_type": "execute_result"
    }
   ],
   "source": [
    "\n",
    "# Decode the predicted labels back to original topic IDs\n",
    "y_pred_decoded = label_encoder.inverse_transform(y_pred)\n",
    "y_pred_decoded"
   ]
  },
  {
   "cell_type": "code",
   "execution_count": 17,
   "metadata": {},
   "outputs": [
    {
     "name": "stdout",
     "output_type": "stream",
     "text": [
      "Accuracy: 0.6428645563051375\n"
     ]
    },
    {
     "data": {
      "text/plain": [
       "array(['bt-0', 'bt-1', 'bt-10', 'bt-14', 'bt-15', 'bt-16', 'bt-18',\n",
       "       'bt-2', 'bt-20', 'bt-21', 'bt-22', 'bt-23', 'bt-3', 'bt-4', 'bt-6',\n",
       "       'bt-7', 'bt-8', 'bt-9'], dtype=object)"
      ]
     },
     "execution_count": 17,
     "metadata": {},
     "output_type": "execute_result"
    }
   ],
   "source": [
    "# Decode the predicted labels back to original topic IDs\n",
    "y_pred_decoded = label_encoder.inverse_transform(y_pred)\n",
    "y_test_decoded = label_encoder.inverse_transform(y_test)\n",
    "\n",
    "# Evaluate the model\n",
    "accuracy = accuracy_score(y_test, y_pred)\n",
    "print(f'Accuracy: {accuracy}')\n",
    "\n",
    "# Classification report\n",
    "target_names = label_encoder.classes_\n",
    "\n",
    "topic_short_dict = df_final[['topic_id', 'short_name']].set_index('topic_id')['short_name'].to_dict()\n",
    "\n",
    "target_names_short_names = [topic_short_dict[x] for x in target_names]"
   ]
  },
  {
   "cell_type": "code",
   "execution_count": 23,
   "metadata": {},
   "outputs": [
    {
     "name": "stdout",
     "output_type": "stream",
     "text": [
      "                                                                     precision    recall  f1-score   support\n",
      "\n",
      "     Révolution-COMBAT-démocratie-génération-histoire-femmes-presse       0.47      0.50      0.49      1890\n",
      "FAIM-MANIFESTATIONS-migrants-COUR-milliers-MANIFESTATION-avortement       0.47      0.40      0.43      1368\n",
      "         ANS-Questions-ordinateur-siècle-III-TÉLÉVISION-principales       0.54      0.45      0.49      1671\n",
      "          MORTS-ACCIDENTS-INCENDIE-blessés-AVION-Airbus-inondations       0.74      0.56      0.64      1042\n",
      "          entreprises-logement-emploi-crise-chômage-entreprise-euro       0.53      0.56      0.55      1754\n",
      "     CONFÉRENCE-ALGÉRIE-visite-président-Calédonie-RELATIONS-traité       0.56      0.63      0.60      1871\n",
      "                 COUPE-TOUR-CHAMPIONNATS-MONDE-Mondial-ÉQUIPE-Bleus       0.86      0.73      0.79       975\n",
      "            gauche-droite-ÉLECTIONS-Pen-SOCIALISTES-MAJORITÉ-Macron       0.65      0.69      0.67      2066\n",
      "                    SEMAINE-GUIDE-week-GALERIES-end-TRAVERS-entrées       0.91      0.65      0.76       724\n",
      "                 PRISON-PROCÈS-ATTENTAT-examen-AFFAIRE-meurtre-mort       0.77      0.80      0.78      1894\n",
      "                ISRAËL-Syrie-Palestiniens-armée-Ukraine-Guerre-paix       0.73      0.72      0.73      1687\n",
      "            grève-SNCF-Covid-privatisation-salariés-USINE-syndicats       0.58      0.60      0.59      1706\n",
      "              MILLIARDS-MILLIONS-FRANCS-BAISSE-HAUSSE-euros-DOLLARS       0.78      0.74      0.76      1719\n",
      "         MORT-Décès-Actualités-PRÉCISION-dessins-ÉTRANGER-NOUVELLES       0.94      0.62      0.75       796\n",
      "                    CINÉMA-FESTIVAL-FILM-OPÉRA-FILMS-THÉÂTRE-CINEMA       0.69      0.79      0.74      2168\n",
      "              RÉFORME-LOI-ASSEMBLÉE-SYNDICATS-PROJET-députés-BUDGET       0.57      0.58      0.57      2050\n",
      "                     mots-cuisine-LIVRES-rendez-fête-HISTOIRE-TEMPS       0.62      0.76      0.68      2292\n",
      "           GÉNÉRAL-PRÉSIDENT-DÉMISSION-PRÉSIDENCE-ÉLU-GAULLE-VISITE       0.74      0.64      0.69      1232\n",
      "\n",
      "                                                           accuracy                           0.64     28905\n",
      "                                                          macro avg       0.68      0.64      0.65     28905\n",
      "                                                       weighted avg       0.65      0.64      0.64     28905\n",
      "\n"
     ]
    }
   ],
   "source": [
    "\n",
    "report = classification_report(y_test_decoded, y_pred_decoded, target_names=target_names_short_names)\n",
    "print(report)"
   ]
  },
  {
   "cell_type": "code",
   "execution_count": 11,
   "metadata": {},
   "outputs": [
    {
     "name": "stdout",
     "output_type": "stream",
     "text": [
      "Accuracy: 0.6428645563051375\n",
      "              precision    recall  f1-score   support\n",
      "\n",
      "        bt-0       0.47      0.50      0.49      1890\n",
      "        bt-1       0.47      0.40      0.43      1368\n",
      "       bt-10       0.54      0.45      0.49      1671\n",
      "       bt-14       0.74      0.56      0.64      1042\n",
      "       bt-15       0.53      0.56      0.55      1754\n",
      "       bt-16       0.56      0.63      0.60      1871\n",
      "       bt-18       0.86      0.73      0.79       975\n",
      "        bt-2       0.65      0.69      0.67      2066\n",
      "       bt-20       0.91      0.65      0.76       724\n",
      "       bt-21       0.77      0.80      0.78      1894\n",
      "       bt-22       0.73      0.72      0.73      1687\n",
      "       bt-23       0.58      0.60      0.59      1706\n",
      "        bt-3       0.78      0.74      0.76      1719\n",
      "        bt-4       0.94      0.62      0.75       796\n",
      "        bt-6       0.69      0.79      0.74      2168\n",
      "        bt-7       0.57      0.58      0.57      2050\n",
      "        bt-8       0.62      0.76      0.68      2292\n",
      "        bt-9       0.74      0.64      0.69      1232\n",
      "\n",
      "    accuracy                           0.64     28905\n",
      "   macro avg       0.68      0.64      0.65     28905\n",
      "weighted avg       0.65      0.64      0.64     28905\n",
      "\n"
     ]
    }
   ],
   "source": [
    "\n",
    "report = classification_report(y_test_decoded, y_pred_decoded, target_names=target_names_short_names)\n",
    "print(report)"
   ]
  },
  {
   "cell_type": "code",
   "execution_count": 13,
   "metadata": {},
   "outputs": [],
   "source": []
  },
  {
   "cell_type": "code",
   "execution_count": null,
   "metadata": {},
   "outputs": [],
   "source": [
    "\n"
   ]
  }
 ],
 "metadata": {
  "kernelspec": {
   "display_name": ".venv",
   "language": "python",
   "name": "python3"
  },
  "language_info": {
   "codemirror_mode": {
    "name": "ipython",
    "version": 3
   },
   "file_extension": ".py",
   "mimetype": "text/x-python",
   "name": "python",
   "nbconvert_exporter": "python",
   "pygments_lexer": "ipython3",
   "version": "3.10.12"
  }
 },
 "nbformat": 4,
 "nbformat_minor": 2
}
