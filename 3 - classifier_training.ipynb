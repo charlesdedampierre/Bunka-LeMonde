{
 "cells": [
  {
   "cell_type": "code",
   "execution_count": 1,
   "metadata": {},
   "outputs": [],
   "source": [
    "import jsonlines\n",
    "from bunkatopics.datamodel import Document, Term\n",
    "\n",
    "from bunkatopics.datamodel import TopicRanking, BourdieuDimension, Term\n",
    "from pydantic import BaseModel, Field\n",
    "import typing as t\n",
    "\n",
    "\n",
    "DOC_ID = str\n",
    "TERM_ID = str\n",
    "TOPIC_ID = str\n",
    "\n",
    "\n",
    "class Document(BaseModel):\n",
    "    doc_id: DOC_ID\n",
    "    content: str\n",
    "    size: t.Optional[float] = None\n",
    "    x: t.Optional[float] = None\n",
    "    y: t.Optional[float] = None\n",
    "    topic_id: t.Optional[TOPIC_ID] = None\n",
    "    topic_ranking: t.Optional[TopicRanking] = None  # Make topic_ranking optional\n",
    "    term_id: t.Optional[t.List[TERM_ID]] = None\n",
    "    embedding: t.Optional[t.List[float]] = Field(None, repr=False)\n",
    "    bourdieu_dimensions: t.List[BourdieuDimension] = []\n",
    "\n",
    "\n",
    "\n",
    "# Define a function to read documents from a JSONL file\n",
    "def read_documents_from_jsonl(file_path):\n",
    "    documents = []\n",
    "    with jsonlines.open(file_path, mode=\"r\") as reader:\n",
    "        for item in reader:\n",
    "            document = Document(**item)\n",
    "            documents.append(document)\n",
    "    return documents"
   ]
  },
  {
   "cell_type": "code",
   "execution_count": 2,
   "metadata": {},
   "outputs": [],
   "source": [
    "documents = read_documents_from_jsonl(\"exports/bunka_docs_lemonde.jsonl\")\n"
   ]
  },
  {
   "cell_type": "code",
   "execution_count": 3,
   "metadata": {},
   "outputs": [],
   "source": [
    "import pandas as pd\n",
    "df_embedding = pd.DataFrame([x.model_dump() for x in documents])\n",
    "df_embedding = df_embedding[['doc_id', 'embedding']]"
   ]
  },
  {
   "cell_type": "code",
   "execution_count": 4,
   "metadata": {},
   "outputs": [],
   "source": [
    "df_topics = pd.read_csv('exports/df_topics_top_docs.csv', index_col=[0])\n",
    "df_topics['short_name'] = df_topics['topic_name'].apply(lambda x: '-'.join(x.split(' | ')[:7]))"
   ]
  },
  {
   "cell_type": "code",
   "execution_count": 5,
   "metadata": {},
   "outputs": [],
   "source": [
    "df_final = pd.merge(df_embedding, df_topics, on = 'doc_id')"
   ]
  },
  {
   "cell_type": "code",
   "execution_count": 6,
   "metadata": {},
   "outputs": [
    {
     "data": {
      "text/html": [
       "<div>\n",
       "<style scoped>\n",
       "    .dataframe tbody tr th:only-of-type {\n",
       "        vertical-align: middle;\n",
       "    }\n",
       "\n",
       "    .dataframe tbody tr th {\n",
       "        vertical-align: top;\n",
       "    }\n",
       "\n",
       "    .dataframe thead th {\n",
       "        text-align: right;\n",
       "    }\n",
       "</style>\n",
       "<table border=\"1\" class=\"dataframe\">\n",
       "  <thead>\n",
       "    <tr style=\"text-align: right;\">\n",
       "      <th></th>\n",
       "      <th>doc_id</th>\n",
       "      <th>embedding</th>\n",
       "      <th>content</th>\n",
       "      <th>ranking_per_topic</th>\n",
       "      <th>topic_id</th>\n",
       "      <th>topic_name</th>\n",
       "      <th>short_name</th>\n",
       "    </tr>\n",
       "  </thead>\n",
       "  <tbody>\n",
       "    <tr>\n",
       "      <th>0</th>\n",
       "      <td>f9d2e3e9-81b5-4072-a</td>\n",
       "      <td>[-0.03271692246198654, 0.06378008425235748, 0....</td>\n",
       "      <td>Discrètement, le gouvernement a prévu de relev...</td>\n",
       "      <td>810</td>\n",
       "      <td>bt-15</td>\n",
       "      <td>entreprises | logement | emploi | crise | chôm...</td>\n",
       "      <td>entreprises-logement-emploi-crise-chômage-entr...</td>\n",
       "    </tr>\n",
       "    <tr>\n",
       "      <th>1</th>\n",
       "      <td>7c5d0504-0854-4f2d-8</td>\n",
       "      <td>[0.026198111474514008, 0.0498882457613945, -0....</td>\n",
       "      <td>GUIDE</td>\n",
       "      <td>161</td>\n",
       "      <td>bt-20</td>\n",
       "      <td>SEMAINE | GUIDE | week | GALERIES | end | TRAV...</td>\n",
       "      <td>SEMAINE-GUIDE-week-GALERIES-end-TRAVERS-entrées</td>\n",
       "    </tr>\n",
       "    <tr>\n",
       "      <th>2</th>\n",
       "      <td>8a73a0d0-296e-4de4-a</td>\n",
       "      <td>[-0.05174738168716431, 0.0240201186388731, 0.0...</td>\n",
       "      <td>Le Sénat fait la chasse aux fraudeurs à la red...</td>\n",
       "      <td>997</td>\n",
       "      <td>bt-7</td>\n",
       "      <td>RÉFORME | LOI | ASSEMBLÉE | SYNDICATS | PROJET...</td>\n",
       "      <td>RÉFORME-LOI-ASSEMBLÉE-SYNDICATS-PROJET-députés...</td>\n",
       "    </tr>\n",
       "  </tbody>\n",
       "</table>\n",
       "</div>"
      ],
      "text/plain": [
       "                 doc_id                                          embedding  \\\n",
       "0  f9d2e3e9-81b5-4072-a  [-0.03271692246198654, 0.06378008425235748, 0....   \n",
       "1  7c5d0504-0854-4f2d-8  [0.026198111474514008, 0.0498882457613945, -0....   \n",
       "2  8a73a0d0-296e-4de4-a  [-0.05174738168716431, 0.0240201186388731, 0.0...   \n",
       "\n",
       "                                             content  ranking_per_topic  \\\n",
       "0  Discrètement, le gouvernement a prévu de relev...                810   \n",
       "1                                              GUIDE                161   \n",
       "2  Le Sénat fait la chasse aux fraudeurs à la red...                997   \n",
       "\n",
       "  topic_id                                         topic_name  \\\n",
       "0    bt-15  entreprises | logement | emploi | crise | chôm...   \n",
       "1    bt-20  SEMAINE | GUIDE | week | GALERIES | end | TRAV...   \n",
       "2     bt-7  RÉFORME | LOI | ASSEMBLÉE | SYNDICATS | PROJET...   \n",
       "\n",
       "                                          short_name  \n",
       "0  entreprises-logement-emploi-crise-chômage-entr...  \n",
       "1    SEMAINE-GUIDE-week-GALERIES-end-TRAVERS-entrées  \n",
       "2  RÉFORME-LOI-ASSEMBLÉE-SYNDICATS-PROJET-députés...  "
      ]
     },
     "execution_count": 6,
     "metadata": {},
     "output_type": "execute_result"
    }
   ],
   "source": [
    "df_final.head(3)"
   ]
  },
  {
   "cell_type": "code",
   "execution_count": 7,
   "metadata": {},
   "outputs": [],
   "source": [
    "import numpy as np\n",
    "from sklearn.model_selection import train_test_split\n",
    "from xgboost import XGBClassifier\n",
    "from sklearn.metrics import accuracy_score, classification_report\n",
    "from sklearn.preprocessing import LabelEncoder\n"
   ]
  },
  {
   "cell_type": "code",
   "execution_count": 8,
   "metadata": {},
   "outputs": [],
   "source": [
    "# Convert embedding column to numpy array\n",
    "X = np.array(df_final['embedding'].tolist())\n",
    "\n",
    "# Convert topic_id to categorical labels\n",
    "y = df_final['topic_id']\n",
    "\n",
    "# Convert topic_id to integer labels using label encoding\n",
    "label_encoder = LabelEncoder()\n",
    "y_encoded = label_encoder.fit_transform(y)"
   ]
  },
  {
   "cell_type": "code",
   "execution_count": 9,
   "metadata": {},
   "outputs": [],
   "source": [
    "# Split data into train and test sets\n",
    "X_train, X_test, y_train, y_test = train_test_split(X, y_encoded, test_size=0.3, random_state=42)\n",
    "\n",
    "# Create XGBoost classifier\n",
    "model = XGBClassifier(objective='multi:softmax', num_class=len(set(y)))\n",
    "\n",
    "# Train the model\n",
    "model.fit(X_train, y_train)\n",
    "\n",
    "# Make predictions on the test set\n",
    "y_pred = model.predict(X_test)"
   ]
  },
  {
   "cell_type": "code",
   "execution_count": 14,
   "metadata": {},
   "outputs": [
    {
     "data": {
      "text/plain": [
       "array(['bt-23', 'bt-16', 'bt-9', ..., 'bt-9', 'bt-22', 'bt-21'],\n",
       "      dtype=object)"
      ]
     },
     "execution_count": 14,
     "metadata": {},
     "output_type": "execute_result"
    }
   ],
   "source": [
    "\n",
    "# Decode the predicted labels back to original topic IDs\n",
    "y_pred_decoded = label_encoder.inverse_transform(y_pred)\n",
    "y_pred_decoded"
   ]
  },
  {
   "cell_type": "code",
   "execution_count": 15,
   "metadata": {},
   "outputs": [
    {
     "name": "stdout",
     "output_type": "stream",
     "text": [
      "Accuracy: 0.8179599804782821\n"
     ]
    }
   ],
   "source": [
    "# Decode the predicted labels back to original topic IDs\n",
    "y_pred_decoded = label_encoder.inverse_transform(y_pred)\n",
    "y_test_decoded = label_encoder.inverse_transform(y_test)\n",
    "\n",
    "# Evaluate the model\n",
    "accuracy = accuracy_score(y_test, y_pred)\n",
    "print(f'Accuracy: {accuracy}')\n",
    "\n",
    "# Classification report\n",
    "target_names = label_encoder.classes_\n",
    "\n",
    "topic_short_dict = df_final[['topic_id', 'short_name']].set_index('topic_id')['short_name'].to_dict()\n",
    "\n",
    "target_names_short_names = [topic_short_dict[x] for x in target_names]"
   ]
  },
  {
   "cell_type": "code",
   "execution_count": 16,
   "metadata": {},
   "outputs": [
    {
     "name": "stdout",
     "output_type": "stream",
     "text": [
      "                                                                     precision    recall  f1-score   support\n",
      "\n",
      "     Révolution-COMBAT-démocratie-génération-histoire-femmes-presse       0.79      0.55      0.65       137\n",
      "FAIM-MANIFESTATIONS-migrants-COUR-milliers-MANIFESTATION-avortement       0.87      0.63      0.73       167\n",
      "         ANS-Questions-ordinateur-siècle-III-TÉLÉVISION-principales       0.83      0.73      0.78       175\n",
      "               ERRATUM-SELECTION-LIGNE-tableau-informations-fr-JOUR       0.99      0.88      0.93       104\n",
      "                                              INFORMATIONS-dépêches       1.00      1.00      1.00        21\n",
      "       RECTIFICATIF-tirages-SPORT-ERRATUM-Résultats-samedi-mercredi       0.98      0.96      0.97        47\n",
      "          MORTS-ACCIDENTS-INCENDIE-blessés-AVION-Airbus-inondations       0.88      0.75      0.81       199\n",
      "          entreprises-logement-emploi-crise-chômage-entreprise-euro       0.76      0.70      0.73       245\n",
      "     CONFÉRENCE-ALGÉRIE-visite-président-Calédonie-RELATIONS-traité       0.70      0.76      0.73       616\n",
      "                LETTRE-champions-QUESTIONS-PSG-OM-TIMES-championnat       0.96      0.71      0.82       174\n",
      "                 COUPE-TOUR-CHAMPIONNATS-MONDE-Mondial-ÉQUIPE-Bleus       0.83      0.88      0.85       280\n",
      "                                                       États-empire       1.00      1.00      1.00        10\n",
      "            gauche-droite-ÉLECTIONS-Pen-SOCIALISTES-MAJORITÉ-Macron       0.73      0.81      0.77       590\n",
      "                    SEMAINE-GUIDE-week-GALERIES-end-TRAVERS-entrées       0.97      0.82      0.89        87\n",
      "                 PRISON-PROCÈS-ATTENTAT-examen-AFFAIRE-meurtre-mort       0.85      0.94      0.89       504\n",
      "                ISRAËL-Syrie-Palestiniens-armée-Ukraine-Guerre-paix       0.89      0.91      0.90       384\n",
      "            grève-SNCF-Covid-privatisation-salariés-USINE-syndicats       0.84      0.71      0.77       257\n",
      "                                  INFORMATIONS-Pakistan-Afghanistan       1.00      1.00      1.00        14\n",
      "              MILLIARDS-MILLIONS-FRANCS-BAISSE-HAUSSE-euros-DOLLARS       0.86      0.92      0.89       506\n",
      "         MORT-Décès-Actualités-PRÉCISION-dessins-ÉTRANGER-NOUVELLES       0.97      0.85      0.91       195\n",
      "                VOYAGEUR-CARNET-dépêches-FAITS-Colombie-Etats-Union       1.00      0.96      0.98        50\n",
      "                    CINÉMA-FESTIVAL-FILM-OPÉRA-FILMS-THÉÂTRE-CINEMA       0.83      0.89      0.86       238\n",
      "              RÉFORME-LOI-ASSEMBLÉE-SYNDICATS-PROJET-députés-BUDGET       0.82      0.85      0.83       450\n",
      "                     mots-cuisine-LIVRES-rendez-fête-HISTOIRE-TEMPS       0.81      0.65      0.72        88\n",
      "           GÉNÉRAL-PRÉSIDENT-DÉMISSION-PRÉSIDENCE-ÉLU-GAULLE-VISITE       0.75      0.81      0.78       609\n",
      "\n",
      "                                                           accuracy                           0.82      6147\n",
      "                                                          macro avg       0.88      0.83      0.85      6147\n",
      "                                                       weighted avg       0.82      0.82      0.82      6147\n",
      "\n"
     ]
    }
   ],
   "source": [
    "\n",
    "report = classification_report(y_test_decoded, y_pred_decoded, target_names=target_names_short_names)\n",
    "print(report)"
   ]
  },
  {
   "cell_type": "code",
   "execution_count": 13,
   "metadata": {},
   "outputs": [
    {
     "name": "stdout",
     "output_type": "stream",
     "text": [
      "                                                                     precision    recall  f1-score   support\n",
      "\n",
      "     Révolution-COMBAT-démocratie-génération-histoire-femmes-presse       0.79      0.55      0.65       137\n",
      "FAIM-MANIFESTATIONS-migrants-COUR-milliers-MANIFESTATION-avortement       0.87      0.63      0.73       167\n",
      "         ANS-Questions-ordinateur-siècle-III-TÉLÉVISION-principales       0.83      0.73      0.78       175\n",
      "               ERRATUM-SELECTION-LIGNE-tableau-informations-fr-JOUR       0.99      0.88      0.93       104\n",
      "                                              INFORMATIONS-dépêches       1.00      1.00      1.00        21\n",
      "       RECTIFICATIF-tirages-SPORT-ERRATUM-Résultats-samedi-mercredi       0.98      0.96      0.97        47\n",
      "          MORTS-ACCIDENTS-INCENDIE-blessés-AVION-Airbus-inondations       0.88      0.75      0.81       199\n",
      "          entreprises-logement-emploi-crise-chômage-entreprise-euro       0.76      0.70      0.73       245\n",
      "     CONFÉRENCE-ALGÉRIE-visite-président-Calédonie-RELATIONS-traité       0.70      0.76      0.73       616\n",
      "                LETTRE-champions-QUESTIONS-PSG-OM-TIMES-championnat       0.96      0.71      0.82       174\n",
      "                 COUPE-TOUR-CHAMPIONNATS-MONDE-Mondial-ÉQUIPE-Bleus       0.83      0.88      0.85       280\n",
      "                                                       États-empire       1.00      1.00      1.00        10\n",
      "            gauche-droite-ÉLECTIONS-Pen-SOCIALISTES-MAJORITÉ-Macron       0.73      0.81      0.77       590\n",
      "                    SEMAINE-GUIDE-week-GALERIES-end-TRAVERS-entrées       0.97      0.82      0.89        87\n",
      "                 PRISON-PROCÈS-ATTENTAT-examen-AFFAIRE-meurtre-mort       0.85      0.94      0.89       504\n",
      "                ISRAËL-Syrie-Palestiniens-armée-Ukraine-Guerre-paix       0.89      0.91      0.90       384\n",
      "            grève-SNCF-Covid-privatisation-salariés-USINE-syndicats       0.84      0.71      0.77       257\n",
      "                                  INFORMATIONS-Pakistan-Afghanistan       1.00      1.00      1.00        14\n",
      "              MILLIARDS-MILLIONS-FRANCS-BAISSE-HAUSSE-euros-DOLLARS       0.86      0.92      0.89       506\n",
      "         MORT-Décès-Actualités-PRÉCISION-dessins-ÉTRANGER-NOUVELLES       0.97      0.85      0.91       195\n",
      "                VOYAGEUR-CARNET-dépêches-FAITS-Colombie-Etats-Union       1.00      0.96      0.98        50\n",
      "                    CINÉMA-FESTIVAL-FILM-OPÉRA-FILMS-THÉÂTRE-CINEMA       0.83      0.89      0.86       238\n",
      "              RÉFORME-LOI-ASSEMBLÉE-SYNDICATS-PROJET-députés-BUDGET       0.82      0.85      0.83       450\n",
      "                     mots-cuisine-LIVRES-rendez-fête-HISTOIRE-TEMPS       0.81      0.65      0.72        88\n",
      "           GÉNÉRAL-PRÉSIDENT-DÉMISSION-PRÉSIDENCE-ÉLU-GAULLE-VISITE       0.75      0.81      0.78       609\n",
      "\n",
      "                                                           accuracy                           0.82      6147\n",
      "                                                          macro avg       0.88      0.83      0.85      6147\n",
      "                                                       weighted avg       0.82      0.82      0.82      6147\n",
      "\n"
     ]
    }
   ],
   "source": [
    "\n",
    "report = classification_report(y_test_decoded, y_pred_decoded, target_names=target_names_short_names)\n",
    "print(report)"
   ]
  },
  {
   "cell_type": "code",
   "execution_count": null,
   "metadata": {},
   "outputs": [],
   "source": []
  },
  {
   "cell_type": "code",
   "execution_count": null,
   "metadata": {},
   "outputs": [],
   "source": [
    "\n"
   ]
  }
 ],
 "metadata": {
  "kernelspec": {
   "display_name": ".venv",
   "language": "python",
   "name": "python3"
  },
  "language_info": {
   "codemirror_mode": {
    "name": "ipython",
    "version": 3
   },
   "file_extension": ".py",
   "mimetype": "text/x-python",
   "name": "python",
   "nbconvert_exporter": "python",
   "pygments_lexer": "ipython3",
   "version": "3.10.12"
  }
 },
 "nbformat": 4,
 "nbformat_minor": 2
}
