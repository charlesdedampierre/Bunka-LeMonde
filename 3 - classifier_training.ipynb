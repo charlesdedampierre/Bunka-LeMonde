{
 "cells": [
  {
   "cell_type": "code",
   "execution_count": 1,
   "metadata": {},
   "outputs": [],
   "source": [
    "import jsonlines\n",
    "from bunkatopics.datamodel import Document, Term\n",
    "\n",
    "from bunkatopics.datamodel import TopicRanking, BourdieuDimension, Term\n",
    "from pydantic import BaseModel, Field\n",
    "import typing as t\n",
    "\n",
    "\n",
    "DOC_ID = str\n",
    "TERM_ID = str\n",
    "TOPIC_ID = str\n",
    "\n",
    "\n",
    "class Document(BaseModel):\n",
    "    doc_id: DOC_ID\n",
    "    content: str\n",
    "    size: t.Optional[float] = None\n",
    "    x: t.Optional[float] = None\n",
    "    y: t.Optional[float] = None\n",
    "    topic_id: t.Optional[TOPIC_ID] = None\n",
    "    topic_ranking: t.Optional[TopicRanking] = None  # Make topic_ranking optional\n",
    "    term_id: t.Optional[t.List[TERM_ID]] = None\n",
    "    embedding: t.Optional[t.List[float]] = Field(None, repr=False)\n",
    "    bourdieu_dimensions: t.List[BourdieuDimension] = []\n",
    "\n",
    "\n",
    "\n",
    "# Define a function to read documents from a JSONL file\n",
    "def read_documents_from_jsonl(file_path):\n",
    "    documents = []\n",
    "    with jsonlines.open(file_path, mode=\"r\") as reader:\n",
    "        for item in reader:\n",
    "            document = Document(**item)\n",
    "            documents.append(document)\n",
    "    return documents"
   ]
  },
  {
   "cell_type": "code",
   "execution_count": 2,
   "metadata": {},
   "outputs": [],
   "source": [
    "documents = read_documents_from_jsonl(\"exports/bunka_docs_lemonde.jsonl\")\n"
   ]
  },
  {
   "cell_type": "code",
   "execution_count": 3,
   "metadata": {},
   "outputs": [],
   "source": [
    "import pandas as pd\n",
    "df_embedding = pd.DataFrame([x.model_dump() for x in documents])\n",
    "df_embedding = df_embedding[['doc_id', 'embedding']]"
   ]
  },
  {
   "cell_type": "code",
   "execution_count": 11,
   "metadata": {},
   "outputs": [],
   "source": [
    "df_topics = pd.read_csv('exports/df_topics_top_docs.csv', index_col=[0])\n",
    "df_topics['short_name'] = df_topics['topic_name'].apply(lambda x: '-'.join(x.split(' | ')[:7]))"
   ]
  },
  {
   "cell_type": "code",
   "execution_count": 12,
   "metadata": {},
   "outputs": [
    {
     "data": {
      "text/plain": [
       "25"
      ]
     },
     "execution_count": 12,
     "metadata": {},
     "output_type": "execute_result"
    }
   ],
   "source": [
    "len(df_topics.topic_id.value_counts())"
   ]
  },
  {
   "cell_type": "code",
   "execution_count": 18,
   "metadata": {},
   "outputs": [
    {
     "data": {
      "text/html": [
       "<div>\n",
       "<style scoped>\n",
       "    .dataframe tbody tr th:only-of-type {\n",
       "        vertical-align: middle;\n",
       "    }\n",
       "\n",
       "    .dataframe tbody tr th {\n",
       "        vertical-align: top;\n",
       "    }\n",
       "\n",
       "    .dataframe thead th {\n",
       "        text-align: right;\n",
       "    }\n",
       "</style>\n",
       "<table border=\"1\" class=\"dataframe\">\n",
       "  <thead>\n",
       "    <tr style=\"text-align: right;\">\n",
       "      <th></th>\n",
       "      <th>doc_id</th>\n",
       "      <th>content</th>\n",
       "      <th>ranking_per_topic</th>\n",
       "      <th>topic_id</th>\n",
       "      <th>topic_name</th>\n",
       "      <th>short_name</th>\n",
       "    </tr>\n",
       "  </thead>\n",
       "  <tbody>\n",
       "    <tr>\n",
       "      <th>0</th>\n",
       "      <td>07793ae8-4672-4edb-8</td>\n",
       "      <td>\"La Révolution française. Une histoire toujour...</td>\n",
       "      <td>1</td>\n",
       "      <td>bt-0</td>\n",
       "      <td>Révolution | COMBAT | démocratie | génération ...</td>\n",
       "      <td>Révolution-COMBAT-démocratie-génération-histoi...</td>\n",
       "    </tr>\n",
       "    <tr>\n",
       "      <th>1</th>\n",
       "      <td>376c20d0-3701-4b7e-a</td>\n",
       "      <td>MILAN KUNDERA : \" En vidant une nation de sa c...</td>\n",
       "      <td>2</td>\n",
       "      <td>bt-0</td>\n",
       "      <td>Révolution | COMBAT | démocratie | génération ...</td>\n",
       "      <td>Révolution-COMBAT-démocratie-génération-histoi...</td>\n",
       "    </tr>\n",
       "    <tr>\n",
       "      <th>2</th>\n",
       "      <td>54b6797a-5c87-40f9-a</td>\n",
       "      <td>Accompagner les jeunes d'aujourd'hui et de dem...</td>\n",
       "      <td>3</td>\n",
       "      <td>bt-0</td>\n",
       "      <td>Révolution | COMBAT | démocratie | génération ...</td>\n",
       "      <td>Révolution-COMBAT-démocratie-génération-histoi...</td>\n",
       "    </tr>\n",
       "    <tr>\n",
       "      <th>3</th>\n",
       "      <td>60c7f95e-a30d-4df9-9</td>\n",
       "      <td>Les réactions de la presse À PARIS LA CROIX : ...</td>\n",
       "      <td>4</td>\n",
       "      <td>bt-0</td>\n",
       "      <td>Révolution | COMBAT | démocratie | génération ...</td>\n",
       "      <td>Révolution-COMBAT-démocratie-génération-histoi...</td>\n",
       "    </tr>\n",
       "    <tr>\n",
       "      <th>4</th>\n",
       "      <td>7de09df4-27d9-47f3-9</td>\n",
       "      <td>Vives réactions de la presse</td>\n",
       "      <td>5</td>\n",
       "      <td>bt-0</td>\n",
       "      <td>Révolution | COMBAT | démocratie | génération ...</td>\n",
       "      <td>Révolution-COMBAT-démocratie-génération-histoi...</td>\n",
       "    </tr>\n",
       "    <tr>\n",
       "      <th>...</th>\n",
       "      <td>...</td>\n",
       "      <td>...</td>\n",
       "      <td>...</td>\n",
       "      <td>...</td>\n",
       "      <td>...</td>\n",
       "      <td>...</td>\n",
       "    </tr>\n",
       "    <tr>\n",
       "      <th>20483</th>\n",
       "      <td>c9bfda11-e15d-42ec-a</td>\n",
       "      <td>LE PREMIER MINISTRE MALAIS VIENT DISCUTER DU P...</td>\n",
       "      <td>1996</td>\n",
       "      <td>bt-9</td>\n",
       "      <td>GÉNÉRAL | PRÉSIDENT | DÉMISSION | PRÉSIDENCE |...</td>\n",
       "      <td>GÉNÉRAL-PRÉSIDENT-DÉMISSION-PRÉSIDENCE-ÉLU-GAU...</td>\n",
       "    </tr>\n",
       "    <tr>\n",
       "      <th>20484</th>\n",
       "      <td>c9e97d11-05c5-4e98-b</td>\n",
       "      <td>M. RENÉ ABJEAN NOMMÉ DIRECTEUR DE RADIO-FINISTÈRE</td>\n",
       "      <td>1997</td>\n",
       "      <td>bt-9</td>\n",
       "      <td>GÉNÉRAL | PRÉSIDENT | DÉMISSION | PRÉSIDENCE |...</td>\n",
       "      <td>GÉNÉRAL-PRÉSIDENT-DÉMISSION-PRÉSIDENCE-ÉLU-GAU...</td>\n",
       "    </tr>\n",
       "    <tr>\n",
       "      <th>20485</th>\n",
       "      <td>c9edf2b0-7d46-4ab6-a</td>\n",
       "      <td>M. Moutet a reçu M. Ho Chi Minh</td>\n",
       "      <td>1998</td>\n",
       "      <td>bt-9</td>\n",
       "      <td>GÉNÉRAL | PRÉSIDENT | DÉMISSION | PRÉSIDENCE |...</td>\n",
       "      <td>GÉNÉRAL-PRÉSIDENT-DÉMISSION-PRÉSIDENCE-ÉLU-GAU...</td>\n",
       "    </tr>\n",
       "    <tr>\n",
       "      <th>20486</th>\n",
       "      <td>ca3fe13b-24d6-453e-a</td>\n",
       "      <td>Dassault à la tête de la Socpresse, une satisf...</td>\n",
       "      <td>1999</td>\n",
       "      <td>bt-9</td>\n",
       "      <td>GÉNÉRAL | PRÉSIDENT | DÉMISSION | PRÉSIDENCE |...</td>\n",
       "      <td>GÉNÉRAL-PRÉSIDENT-DÉMISSION-PRÉSIDENCE-ÉLU-GAU...</td>\n",
       "    </tr>\n",
       "    <tr>\n",
       "      <th>20487</th>\n",
       "      <td>ca4047a8-5807-4ba3-a</td>\n",
       "      <td>M. Sauvagnargues a été reçu à Bonn par M. Kail...</td>\n",
       "      <td>2000</td>\n",
       "      <td>bt-9</td>\n",
       "      <td>GÉNÉRAL | PRÉSIDENT | DÉMISSION | PRÉSIDENCE |...</td>\n",
       "      <td>GÉNÉRAL-PRÉSIDENT-DÉMISSION-PRÉSIDENCE-ÉLU-GAU...</td>\n",
       "    </tr>\n",
       "  </tbody>\n",
       "</table>\n",
       "<p>19160 rows × 6 columns</p>\n",
       "</div>"
      ],
      "text/plain": [
       "                     doc_id  \\\n",
       "0      07793ae8-4672-4edb-8   \n",
       "1      376c20d0-3701-4b7e-a   \n",
       "2      54b6797a-5c87-40f9-a   \n",
       "3      60c7f95e-a30d-4df9-9   \n",
       "4      7de09df4-27d9-47f3-9   \n",
       "...                     ...   \n",
       "20483  c9bfda11-e15d-42ec-a   \n",
       "20484  c9e97d11-05c5-4e98-b   \n",
       "20485  c9edf2b0-7d46-4ab6-a   \n",
       "20486  ca3fe13b-24d6-453e-a   \n",
       "20487  ca4047a8-5807-4ba3-a   \n",
       "\n",
       "                                                 content  ranking_per_topic  \\\n",
       "0      \"La Révolution française. Une histoire toujour...                  1   \n",
       "1      MILAN KUNDERA : \" En vidant une nation de sa c...                  2   \n",
       "2      Accompagner les jeunes d'aujourd'hui et de dem...                  3   \n",
       "3      Les réactions de la presse À PARIS LA CROIX : ...                  4   \n",
       "4                           Vives réactions de la presse                  5   \n",
       "...                                                  ...                ...   \n",
       "20483  LE PREMIER MINISTRE MALAIS VIENT DISCUTER DU P...               1996   \n",
       "20484  M. RENÉ ABJEAN NOMMÉ DIRECTEUR DE RADIO-FINISTÈRE               1997   \n",
       "20485                    M. Moutet a reçu M. Ho Chi Minh               1998   \n",
       "20486  Dassault à la tête de la Socpresse, une satisf...               1999   \n",
       "20487  M. Sauvagnargues a été reçu à Bonn par M. Kail...               2000   \n",
       "\n",
       "      topic_id                                         topic_name  \\\n",
       "0         bt-0  Révolution | COMBAT | démocratie | génération ...   \n",
       "1         bt-0  Révolution | COMBAT | démocratie | génération ...   \n",
       "2         bt-0  Révolution | COMBAT | démocratie | génération ...   \n",
       "3         bt-0  Révolution | COMBAT | démocratie | génération ...   \n",
       "4         bt-0  Révolution | COMBAT | démocratie | génération ...   \n",
       "...        ...                                                ...   \n",
       "20483     bt-9  GÉNÉRAL | PRÉSIDENT | DÉMISSION | PRÉSIDENCE |...   \n",
       "20484     bt-9  GÉNÉRAL | PRÉSIDENT | DÉMISSION | PRÉSIDENCE |...   \n",
       "20485     bt-9  GÉNÉRAL | PRÉSIDENT | DÉMISSION | PRÉSIDENCE |...   \n",
       "20486     bt-9  GÉNÉRAL | PRÉSIDENT | DÉMISSION | PRÉSIDENCE |...   \n",
       "20487     bt-9  GÉNÉRAL | PRÉSIDENT | DÉMISSION | PRÉSIDENCE |...   \n",
       "\n",
       "                                              short_name  \n",
       "0      Révolution-COMBAT-démocratie-génération-histoi...  \n",
       "1      Révolution-COMBAT-démocratie-génération-histoi...  \n",
       "2      Révolution-COMBAT-démocratie-génération-histoi...  \n",
       "3      Révolution-COMBAT-démocratie-génération-histoi...  \n",
       "4      Révolution-COMBAT-démocratie-génération-histoi...  \n",
       "...                                                  ...  \n",
       "20483  GÉNÉRAL-PRÉSIDENT-DÉMISSION-PRÉSIDENCE-ÉLU-GAU...  \n",
       "20484  GÉNÉRAL-PRÉSIDENT-DÉMISSION-PRÉSIDENCE-ÉLU-GAU...  \n",
       "20485  GÉNÉRAL-PRÉSIDENT-DÉMISSION-PRÉSIDENCE-ÉLU-GAU...  \n",
       "20486  GÉNÉRAL-PRÉSIDENT-DÉMISSION-PRÉSIDENCE-ÉLU-GAU...  \n",
       "20487  GÉNÉRAL-PRÉSIDENT-DÉMISSION-PRÉSIDENCE-ÉLU-GAU...  \n",
       "\n",
       "[19160 rows x 6 columns]"
      ]
     },
     "execution_count": 18,
     "metadata": {},
     "output_type": "execute_result"
    }
   ],
   "source": [
    "df_topics_original = pd.read_csv('exports/topics.csv', index_col=[0])\n",
    "list_topics = list(df_topics_original['topic_id'])\n",
    "\n",
    "df_topics = df_topics[df_topics['topic_id'].isin(list_topics)]\n",
    "df_topics"
   ]
  },
  {
   "cell_type": "code",
   "execution_count": 19,
   "metadata": {},
   "outputs": [],
   "source": [
    "df_final = pd.merge(df_embedding, df_topics, on = 'doc_id')"
   ]
  },
  {
   "cell_type": "code",
   "execution_count": 20,
   "metadata": {},
   "outputs": [
    {
     "data": {
      "text/html": [
       "<div>\n",
       "<style scoped>\n",
       "    .dataframe tbody tr th:only-of-type {\n",
       "        vertical-align: middle;\n",
       "    }\n",
       "\n",
       "    .dataframe tbody tr th {\n",
       "        vertical-align: top;\n",
       "    }\n",
       "\n",
       "    .dataframe thead th {\n",
       "        text-align: right;\n",
       "    }\n",
       "</style>\n",
       "<table border=\"1\" class=\"dataframe\">\n",
       "  <thead>\n",
       "    <tr style=\"text-align: right;\">\n",
       "      <th></th>\n",
       "      <th>doc_id</th>\n",
       "      <th>embedding</th>\n",
       "      <th>content</th>\n",
       "      <th>ranking_per_topic</th>\n",
       "      <th>topic_id</th>\n",
       "      <th>topic_name</th>\n",
       "      <th>short_name</th>\n",
       "    </tr>\n",
       "  </thead>\n",
       "  <tbody>\n",
       "    <tr>\n",
       "      <th>0</th>\n",
       "      <td>f9d2e3e9-81b5-4072-a</td>\n",
       "      <td>[-0.03271692246198654, 0.06378008425235748, 0....</td>\n",
       "      <td>Discrètement, le gouvernement a prévu de relev...</td>\n",
       "      <td>810</td>\n",
       "      <td>bt-15</td>\n",
       "      <td>entreprises | logement | emploi | crise | chôm...</td>\n",
       "      <td>entreprises-logement-emploi-crise-chômage-entr...</td>\n",
       "    </tr>\n",
       "    <tr>\n",
       "      <th>1</th>\n",
       "      <td>7c5d0504-0854-4f2d-8</td>\n",
       "      <td>[0.026198111474514008, 0.0498882457613945, -0....</td>\n",
       "      <td>GUIDE</td>\n",
       "      <td>161</td>\n",
       "      <td>bt-20</td>\n",
       "      <td>SEMAINE | GUIDE | week | GALERIES | end | TRAV...</td>\n",
       "      <td>SEMAINE-GUIDE-week-GALERIES-end-TRAVERS-entrées</td>\n",
       "    </tr>\n",
       "    <tr>\n",
       "      <th>2</th>\n",
       "      <td>8a73a0d0-296e-4de4-a</td>\n",
       "      <td>[-0.05174738168716431, 0.0240201186388731, 0.0...</td>\n",
       "      <td>Le Sénat fait la chasse aux fraudeurs à la red...</td>\n",
       "      <td>997</td>\n",
       "      <td>bt-7</td>\n",
       "      <td>RÉFORME | LOI | ASSEMBLÉE | SYNDICATS | PROJET...</td>\n",
       "      <td>RÉFORME-LOI-ASSEMBLÉE-SYNDICATS-PROJET-députés...</td>\n",
       "    </tr>\n",
       "  </tbody>\n",
       "</table>\n",
       "</div>"
      ],
      "text/plain": [
       "                 doc_id                                          embedding  \\\n",
       "0  f9d2e3e9-81b5-4072-a  [-0.03271692246198654, 0.06378008425235748, 0....   \n",
       "1  7c5d0504-0854-4f2d-8  [0.026198111474514008, 0.0498882457613945, -0....   \n",
       "2  8a73a0d0-296e-4de4-a  [-0.05174738168716431, 0.0240201186388731, 0.0...   \n",
       "\n",
       "                                             content  ranking_per_topic  \\\n",
       "0  Discrètement, le gouvernement a prévu de relev...                810   \n",
       "1                                              GUIDE                161   \n",
       "2  Le Sénat fait la chasse aux fraudeurs à la red...                997   \n",
       "\n",
       "  topic_id                                         topic_name  \\\n",
       "0    bt-15  entreprises | logement | emploi | crise | chôm...   \n",
       "1    bt-20  SEMAINE | GUIDE | week | GALERIES | end | TRAV...   \n",
       "2     bt-7  RÉFORME | LOI | ASSEMBLÉE | SYNDICATS | PROJET...   \n",
       "\n",
       "                                          short_name  \n",
       "0  entreprises-logement-emploi-crise-chômage-entr...  \n",
       "1    SEMAINE-GUIDE-week-GALERIES-end-TRAVERS-entrées  \n",
       "2  RÉFORME-LOI-ASSEMBLÉE-SYNDICATS-PROJET-députés...  "
      ]
     },
     "execution_count": 20,
     "metadata": {},
     "output_type": "execute_result"
    }
   ],
   "source": [
    "df_final.head(3)"
   ]
  },
  {
   "cell_type": "code",
   "execution_count": 21,
   "metadata": {},
   "outputs": [],
   "source": [
    "import numpy as np\n",
    "from sklearn.model_selection import train_test_split\n",
    "from xgboost import XGBClassifier\n",
    "from sklearn.metrics import accuracy_score, classification_report\n",
    "from sklearn.preprocessing import LabelEncoder\n"
   ]
  },
  {
   "cell_type": "code",
   "execution_count": 22,
   "metadata": {},
   "outputs": [],
   "source": [
    "# Convert embedding column to numpy array\n",
    "X = np.array(df_final['embedding'].tolist())\n",
    "\n",
    "# Convert topic_id to categorical labels\n",
    "y = df_final['topic_id']\n",
    "\n",
    "# Convert topic_id to integer labels using label encoding\n",
    "label_encoder = LabelEncoder()\n",
    "y_encoded = label_encoder.fit_transform(y)"
   ]
  },
  {
   "cell_type": "code",
   "execution_count": null,
   "metadata": {},
   "outputs": [],
   "source": []
  },
  {
   "cell_type": "code",
   "execution_count": 23,
   "metadata": {},
   "outputs": [],
   "source": [
    "# Split data into train and test sets\n",
    "X_train, X_test, y_train, y_test = train_test_split(X, y_encoded, test_size=0.3, random_state=42)\n",
    "\n",
    "# Create XGBoost classifier\n",
    "model = XGBClassifier(objective='multi:softmax', num_class=len(set(y)))\n",
    "\n",
    "# Train the model\n",
    "model.fit(X_train, y_train)\n",
    "\n",
    "# Make predictions on the test set\n",
    "y_pred = model.predict(X_test)"
   ]
  },
  {
   "cell_type": "code",
   "execution_count": 33,
   "metadata": {},
   "outputs": [],
   "source": [
    "import pickle\n",
    "\n",
    "# Save the trained model to a file\n",
    "with open('exports/model/xgboost_model.pkl', 'wb') as f:\n",
    "    pickle.dump(model, f)\n",
    "\n",
    "# Save the encoder to find back the topics\n",
    "with open('exports/model/label_encoder.pkl', 'wb') as f:\n",
    "    pickle.dump(label_encoder, f)"
   ]
  },
  {
   "cell_type": "code",
   "execution_count": 24,
   "metadata": {},
   "outputs": [
    {
     "data": {
      "text/plain": [
       "array(['bt-7', 'bt-6', 'bt-2', ..., 'bt-1', 'bt-3', 'bt-20'], dtype=object)"
      ]
     },
     "execution_count": 24,
     "metadata": {},
     "output_type": "execute_result"
    }
   ],
   "source": [
    "# Decode the predicted labels back to original topic IDs\n",
    "y_pred_decoded = label_encoder.inverse_transform(y_pred)\n",
    "y_pred_decoded"
   ]
  },
  {
   "cell_type": "code",
   "execution_count": 25,
   "metadata": {},
   "outputs": [
    {
     "name": "stdout",
     "output_type": "stream",
     "text": [
      "Accuracy: 0.8298538622129437\n"
     ]
    }
   ],
   "source": [
    "# Decode the predicted labels back to original topic IDs\n",
    "y_pred_decoded = label_encoder.inverse_transform(y_pred)\n",
    "y_test_decoded = label_encoder.inverse_transform(y_test)\n",
    "\n",
    "# Evaluate the model\n",
    "accuracy = accuracy_score(y_test, y_pred)\n",
    "print(f'Accuracy: {accuracy}')\n",
    "\n",
    "# Classification report\n",
    "target_names = label_encoder.classes_\n",
    "\n",
    "topic_short_dict = df_final[['topic_id', 'short_name']].set_index('topic_id')['short_name'].to_dict()\n",
    "\n",
    "target_names_short_names = [topic_short_dict[x] for x in target_names]"
   ]
  },
  {
   "cell_type": "code",
   "execution_count": 26,
   "metadata": {},
   "outputs": [
    {
     "name": "stdout",
     "output_type": "stream",
     "text": [
      "                                                                     precision    recall  f1-score   support\n",
      "\n",
      "     Révolution-COMBAT-démocratie-génération-histoire-femmes-presse       0.80      0.58      0.68       139\n",
      "FAIM-MANIFESTATIONS-migrants-COUR-milliers-MANIFESTATION-avortement       0.86      0.64      0.74       176\n",
      "         ANS-Questions-ordinateur-siècle-III-TÉLÉVISION-principales       0.83      0.72      0.77       172\n",
      "          MORTS-ACCIDENTS-INCENDIE-blessés-AVION-Airbus-inondations       0.93      0.82      0.87       199\n",
      "          entreprises-logement-emploi-crise-chômage-entreprise-euro       0.74      0.71      0.73       245\n",
      "     CONFÉRENCE-ALGÉRIE-visite-président-Calédonie-RELATIONS-traité       0.72      0.79      0.76       590\n",
      "                 COUPE-TOUR-CHAMPIONNATS-MONDE-Mondial-ÉQUIPE-Bleus       0.91      0.93      0.92       288\n",
      "            gauche-droite-ÉLECTIONS-Pen-SOCIALISTES-MAJORITÉ-Macron       0.75      0.81      0.78       613\n",
      "                    SEMAINE-GUIDE-week-GALERIES-end-TRAVERS-entrées       1.00      0.78      0.88        78\n",
      "                 PRISON-PROCÈS-ATTENTAT-examen-AFFAIRE-meurtre-mort       0.87      0.95      0.91       460\n",
      "                ISRAËL-Syrie-Palestiniens-armée-Ukraine-Guerre-paix       0.88      0.90      0.89       399\n",
      "            grève-SNCF-Covid-privatisation-salariés-USINE-syndicats       0.88      0.77      0.82       253\n",
      "              MILLIARDS-MILLIONS-FRANCS-BAISSE-HAUSSE-euros-DOLLARS       0.88      0.93      0.91       507\n",
      "         MORT-Décès-Actualités-PRÉCISION-dessins-ÉTRANGER-NOUVELLES       0.98      0.90      0.94       198\n",
      "                    CINÉMA-FESTIVAL-FILM-OPÉRA-FILMS-THÉÂTRE-CINEMA       0.85      0.93      0.89       241\n",
      "              RÉFORME-LOI-ASSEMBLÉE-SYNDICATS-PROJET-députés-BUDGET       0.81      0.83      0.82       487\n",
      "                     mots-cuisine-LIVRES-rendez-fête-HISTOIRE-TEMPS       0.87      0.67      0.76        92\n",
      "           GÉNÉRAL-PRÉSIDENT-DÉMISSION-PRÉSIDENCE-ÉLU-GAULLE-VISITE       0.81      0.80      0.80       611\n",
      "\n",
      "                                                           accuracy                           0.83      5748\n",
      "                                                          macro avg       0.85      0.80      0.83      5748\n",
      "                                                       weighted avg       0.83      0.83      0.83      5748\n",
      "\n"
     ]
    }
   ],
   "source": [
    "\n",
    "report = classification_report(y_test_decoded, y_pred_decoded, target_names=target_names_short_names)\n",
    "print(report)"
   ]
  },
  {
   "cell_type": "code",
   "execution_count": null,
   "metadata": {},
   "outputs": [],
   "source": []
  },
  {
   "cell_type": "code",
   "execution_count": null,
   "metadata": {},
   "outputs": [],
   "source": []
  },
  {
   "cell_type": "code",
   "execution_count": null,
   "metadata": {},
   "outputs": [],
   "source": [
    "\n"
   ]
  }
 ],
 "metadata": {
  "kernelspec": {
   "display_name": ".venv",
   "language": "python",
   "name": "python3"
  },
  "language_info": {
   "codemirror_mode": {
    "name": "ipython",
    "version": 3
   },
   "file_extension": ".py",
   "mimetype": "text/x-python",
   "name": "python",
   "nbconvert_exporter": "python",
   "pygments_lexer": "ipython3",
   "version": "3.10.12"
  }
 },
 "nbformat": 4,
 "nbformat_minor": 2
}
