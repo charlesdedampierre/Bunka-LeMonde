{
 "cells": [
  {
   "cell_type": "code",
   "execution_count": 28,
   "metadata": {},
   "outputs": [],
   "source": [
    "import numpy as np\n",
    "\n",
    "# Replace 'embeddings_with_ids_batch_0.npz' with the actual filename you want to read\n",
    "filename = \"embeddings/embeddings_with_ids_batch_0.npz\"\n",
    "data = np.load(filename)"
   ]
  },
  {
   "cell_type": "code",
   "execution_count": 29,
   "metadata": {},
   "outputs": [
    {
     "data": {
      "text/plain": [
       "11719.1162109375"
      ]
     },
     "execution_count": 29,
     "metadata": {},
     "output_type": "execute_result"
    }
   ],
   "source": [
    "import sys\n",
    "# Extract the IDs and embeddings\n",
    "loaded_ids = data['ids']\n",
    "loaded_embeddings = data['embeddings']\n",
    "\n",
    "n_bytes = sys.getsizeof(loaded_embeddings)\n",
    "\n",
    "n_bytes  / (1024 * 1024) *3000"
   ]
  }
 ],
 "metadata": {
  "kernelspec": {
   "display_name": ".venv",
   "language": "python",
   "name": "python3"
  },
  "language_info": {
   "codemirror_mode": {
    "name": "ipython",
    "version": 3
   },
   "file_extension": ".py",
   "mimetype": "text/x-python",
   "name": "python",
   "nbconvert_exporter": "python",
   "pygments_lexer": "ipython3",
   "version": "3.10.12"
  }
 },
 "nbformat": 4,
 "nbformat_minor": 2
}
